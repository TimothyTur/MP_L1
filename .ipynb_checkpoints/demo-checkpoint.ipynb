{
 "cells": [
  {
   "cell_type": "code",
   "execution_count": 59,
   "id": "190ed093",
   "metadata": {},
   "outputs": [],
   "source": [
    "import random as rnd\n",
    "import time"
   ]
  },
  {
   "cell_type": "code",
   "execution_count": 60,
   "id": "cc9fb915",
   "metadata": {},
   "outputs": [],
   "source": [
    "#генераторы\n",
    "def str_time_prop(start, end, time_format, prop):\n",
    "    \n",
    "    stime = time.mktime(time.strptime(start, time_format))\n",
    "    etime = time.mktime(time.strptime(end, time_format))\n",
    "    \n",
    "    ptime = stime+prop*(etime-stime)\n",
    "    \n",
    "    return time.strftime(time_format, time.localtime(ptime))\n",
    "\n",
    "def random_date(start, end, prop):\n",
    "    return str_time_prop(start, end, \"%Y/%m/%d\", prop)\n",
    "\n",
    "surnames =  [\"Абдуллабеков\", \"Богов\", \"Григорьян\", \"Грицун\", \"Гришаев\",\n",
    "             \"Друх\", \"Зильберштейн\", \"Кашинцев\", \"Коников\", \"Красов\",\n",
    "             \"Кузьмина\", \"Курмашева\", \"Магамедов\", \"Недомолкин\",\n",
    "             \"Никитченко\", \"Онищенко\", \"Осипова\", \"Парфенюк\", \"Самунин\",\n",
    "             \"Сарибекян\", \"Сергеев\", \"Смирнов\", \"Ташлыков\", \"Тур\",\n",
    "             \"Ушаков\", \"Фролов\", \"Черников\", \"Яськов\"]\n",
    "names =     [\"Тимур\", \"Мурат\", \"Андрей\", \"Тимофей\", \"Ростислав\", \"Радомир\",\n",
    "             \"Павел\", \"Илья\", \"Максим\", \"Артём\", \"Ксения\", \"Татьяна\",\n",
    "             \"Артур\", \"Илья\", \"Александр\", \"Елизавета\", \"Анастасия\",\n",
    "             \"Михаил\", \"Роман\", \"Гор\", \"Никита\", \"Данила\", \"Григорий\",\n",
    "             \"Тимофей\", \"Александр\", \"Олег\", \"Евгений\", \"Александр\"]\n",
    "lastnames = [\"Мугутдинович\", \"Русланович\", \"Ашотович\", \"Юрьевич\",\n",
    "             \"Алексеевич\", \"Вадимович\", \"Евгеньевич\", \"Константинович\",\n",
    "             \"Павлович\", \"Сергеевич\", \"Дмитриевна\", \"Александровна\",\n",
    "             \"Мирзоевич\", \"Эдуардович\", \"Сергеевич\", \"Григорьевна\",\n",
    "             \"Николаевна\", \"Денисович\", \"Олегович\", \"Эдикович\", \"Игоревич\",\n",
    "             \"Андреевич\", \"Александрович\", \"Владимирович\", \"Николаевич\",\n",
    "             \"Витальевич\", \"Сергеевич\", \"Семенович\"]"
   ]
  },
  {
   "cell_type": "code",
   "execution_count": 73,
   "id": "4e0d4876",
   "metadata": {},
   "outputs": [],
   "source": [
    "#класс\n",
    "class MyObject:\n",
    "    def __init__(self, *args):\n",
    "        if(len(args)==0) :\n",
    "            self.fio = rnd.choice(surnames)+' '+rnd.choice(names)+' '+\\\n",
    "                       rnd.choice(lastnames)\n",
    "            self.num = rnd.randint(1, 100)\n",
    "            self.din = random_date('2004/1/1', '2014/12/31', rnd.random())\n",
    "            self.dou = random_date('2004/1/1', '2014/12/31', rnd.random())\n",
    "            if(self.dou<self.din) :\n",
    "                self.dou, self.din = self.din, self.dou\n",
    "            self.pay = rnd.randint(1000, 100000)\n",
    "        elif(len(args)==5):\n",
    "            self.fio, self.num, self.din, self.dou, self.pay = \\\n",
    "                args[0], args[1], args[2], args[3], args[4]\n",
    "        else:\n",
    "            raise AttributeError\n",
    "    #==\n",
    "    def __eq__(self, other):\n",
    "        return self.din==other.din and self.num==other.num and \\\n",
    "            self.fio==other.fio\n",
    "    #>=\n",
    "    def __ge__(self, other):\n",
    "        if(self.din==other.din):\n",
    "            if(self.num==other.num):\n",
    "                return self.fio>=other.fio\n",
    "            else:\n",
    "                return self.num>other.num\n",
    "        else:\n",
    "            return self.din>other.din\n",
    "    #>\n",
    "    def __gt__(self, other):\n",
    "        if(self.din==other.din):\n",
    "            if(self.num==other.num):\n",
    "                return self.fio>other.fio\n",
    "            else:\n",
    "                return self.num>other.num\n",
    "        else:\n",
    "            return self.din>other.din\n",
    "    #<=\n",
    "    def __le__(self, other):\n",
    "        if(self.din==other.din):\n",
    "            if(self.num==other.num):\n",
    "                return self.fio<=other.fio\n",
    "            else:\n",
    "                return self.num<other.num\n",
    "        else:\n",
    "            return self.din<other.din\n",
    "    #<\n",
    "    def __lt__(self, other):\n",
    "        if(self.din==other.din):\n",
    "            if(self.num==other.num):\n",
    "                return self.fio<other.fio\n",
    "            else:\n",
    "                return self.num<other.num\n",
    "        else:\n",
    "            return self.din<other.din\n",
    "    #!=\n",
    "    def __ne__(self, other):\n",
    "        return not(self.__eq__(other))\n",
    "    \n",
    "    def __str__(self):\n",
    "        return ' '.join([self.fio, str(self.num),\n",
    "                         self.din, self.dou, str(self.pay)])\n",
    "    \n",
    "    def writeOpenedFile(self, file):\n",
    "        data = ' '.join([self.fio, str(self.num),\n",
    "                         self.din, self.dou, str(self.pay)])+'\\n'\n",
    "        file.write(str(self)+'\\n')\n",
    "    \n",
    "    def readOpenedFile(self, file):\n",
    "        data = file.readline()[:-1].split(' ');\n",
    "        self.fio = ' '.join(data[0:3])\n",
    "        self.num = int(data[3])\n",
    "        self.din = data[4]\n",
    "        self.dou = data[5]\n",
    "        self.pay = int(data[6])\n",
    "        return self\n",
    "        \n",
    "            "
   ]
  },
  {
   "cell_type": "code",
   "execution_count": 81,
   "id": "880b45a0",
   "metadata": {},
   "outputs": [],
   "source": [
    "#генератор\n",
    "ns = [100, 500, 1000, 2000, 5000, 10000, 20000, 50000, 100000]\n",
    "\n",
    "#to_generate = 1\n",
    "if(to_generate) :\n",
    "    for length in ns:\n",
    "        with open('mpLab1Sample'+str(length)+'.txt', 'w') as file:\n",
    "            for i in range(length):\n",
    "                MyObject().writeOpenedFile(file)\n",
    "\n",
    "\n",
    "to_generate = 0"
   ]
  },
  {
   "cell_type": "code",
   "execution_count": 82,
   "id": "4718ede3",
   "metadata": {},
   "outputs": [],
   "source": [
    "#чтение\n",
    "to_read = 1\n",
    "if(to_read) :\n",
    "    samples = []\n",
    "    for i in range(len(ns)):\n",
    "        samples.append([])\n",
    "        with open('mpLab1Sample'+str(ns[i])+'.txt', 'r') as file:\n",
    "            for j in range(ns[i]):\n",
    "                samples[i].append(MyObject().readOpenedFile(file))\n",
    "                \n",
    "to_read = 0"
   ]
  },
  {
   "cell_type": "code",
   "execution_count": null,
   "id": "59f7c984",
   "metadata": {},
   "outputs": [],
   "source": [
    "#вставки"
   ]
  },
  {
   "cell_type": "code",
   "execution_count": null,
   "id": "42019fa8",
   "metadata": {},
   "outputs": [],
   "source": [
    "#шейкер"
   ]
  },
  {
   "cell_type": "code",
   "execution_count": null,
   "id": "47b6bdbf",
   "metadata": {},
   "outputs": [],
   "source": [
    "#быстрая"
   ]
  },
  {
   "cell_type": "code",
   "execution_count": null,
   "id": "d71b2b33",
   "metadata": {},
   "outputs": [],
   "source": [
    "#сохранение"
   ]
  },
  {
   "cell_type": "code",
   "execution_count": null,
   "id": "dc47ab95",
   "metadata": {},
   "outputs": [],
   "source": []
  }
 ],
 "metadata": {
  "kernelspec": {
   "display_name": "Python 3 (ipykernel)",
   "language": "python",
   "name": "python3"
  },
  "language_info": {
   "codemirror_mode": {
    "name": "ipython",
    "version": 3
   },
   "file_extension": ".py",
   "mimetype": "text/x-python",
   "name": "python",
   "nbconvert_exporter": "python",
   "pygments_lexer": "ipython3",
   "version": "3.11.0"
  }
 },
 "nbformat": 4,
 "nbformat_minor": 5
}
